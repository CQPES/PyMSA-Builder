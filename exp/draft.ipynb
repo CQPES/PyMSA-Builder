{
 "cells": [
  {
   "cell_type": "code",
   "execution_count": 1,
   "metadata": {},
   "outputs": [],
   "source": [
    "import os\n",
    "import numpy as np"
   ]
  },
  {
   "cell_type": "code",
   "execution_count": 7,
   "metadata": {},
   "outputs": [],
   "source": [
    "log_c = os.path.join(\"c\", \"debug.log\")\n",
    "log_f = os.path.join(\"fortran\", \"debug.log\")"
   ]
  },
  {
   "cell_type": "code",
   "execution_count": 8,
   "metadata": {},
   "outputs": [],
   "source": [
    "def extract(log):\n",
    "    r = []\n",
    "    x = []\n",
    "    p = []\n",
    "\n",
    "    with open(log, \"r\") as f:\n",
    "        while line := f.readline():\n",
    "            if \"r\" in line:\n",
    "                r.append(float(line.split(\"=\")[-1]))\n",
    "            elif \"x\" in line:\n",
    "                x.append(float(line.split(\"=\")[-1]))\n",
    "            elif \"p\" in line:\n",
    "                p.append(float(line.split(\"=\")[-1]))\n",
    "\n",
    "    return np.array(r), np.array(x), np.array(p)"
   ]
  },
  {
   "cell_type": "code",
   "execution_count": 9,
   "metadata": {},
   "outputs": [],
   "source": [
    "r_c, x_c, p_c = extract(log_c)\n",
    "r_f, x_f, p_f = extract(log_f)"
   ]
  },
  {
   "cell_type": "code",
   "execution_count": 11,
   "metadata": {},
   "outputs": [],
   "source": [
    "assert np.allclose(r_c, r_f)"
   ]
  },
  {
   "cell_type": "code",
   "execution_count": 12,
   "metadata": {},
   "outputs": [],
   "source": [
    "assert np.allclose(x_c, x_f)"
   ]
  },
  {
   "cell_type": "code",
   "execution_count": 13,
   "metadata": {},
   "outputs": [],
   "source": [
    "assert np.allclose(p_c, p_f)"
   ]
  },
  {
   "cell_type": "code",
   "execution_count": null,
   "metadata": {},
   "outputs": [],
   "source": []
  }
 ],
 "metadata": {
  "kernelspec": {
   "display_name": "cqpes-env",
   "language": "python",
   "name": "python3"
  },
  "language_info": {
   "codemirror_mode": {
    "name": "ipython",
    "version": 3
   },
   "file_extension": ".py",
   "mimetype": "text/x-python",
   "name": "python",
   "nbconvert_exporter": "python",
   "pygments_lexer": "ipython3",
   "version": "3.8.20"
  }
 },
 "nbformat": 4,
 "nbformat_minor": 2
}
